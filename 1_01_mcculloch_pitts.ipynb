{
  "cells": [
    {
      "cell_type": "markdown",
      "metadata": {
        "id": "view-in-github",
        "colab_type": "text"
      },
      "source": [
        "<a href=\"https://colab.research.google.com/github/DanyH2002/neuronas/blob/main/1_01_mcculloch_pitts.ipynb\" target=\"_parent\"><img src=\"https://colab.research.google.com/assets/colab-badge.svg\" alt=\"Open In Colab\"/></a>"
      ]
    },
    {
      "cell_type": "markdown",
      "metadata": {
        "id": "U2zigtGq6M69"
      },
      "source": [
        "# Neurona McCulloch y Pitts\n",
        "\n",
        "(Ejercicio, 3 puntos posibles)\n",
        "\n",
        "El modelo de McCulloch y Pitts, concebido por Warren McCulloch, neurocientífico, y Walter Pitts, lógico matemático, en 1943 [1], representa uno de los fundamentos teóricos de las redes neuronales y la inteligencia artificial. Este modelo es una simplificación abstracta de las neuronas biológicas, propuesta para entender cómo podrían las neuronas del cerebro generar patrones complejos de pensamiento a partir de operaciones simples.\n",
        "\n",
        "[![Open In Colab](https://colab.research.google.com/assets/colab-badge.svg)](https://colab.research.google.com/github/irvingvasquez/cv2course_intro_nn/blob/master/01_mcculloch_pitts.ipynb)\n",
        "\n",
        "[1] McCulloch, W. S., & Pitts, W. (1990). A logical calculus of the ideas immanent in nervous activity. Bulletin of mathematical biology, 52, 99-115."
      ]
    },
    {
      "cell_type": "markdown",
      "metadata": {
        "id": "xS8JQvWY6M7B"
      },
      "source": [
        "Para formalizar el modelo de McCulloch y Pitts, representaremos una neurona con la letra $C$ y definiremos que la entrada de dicha neurona, denominada $input$, está determinada por una tupla $(E,I)$, donde $E$ es el conjunto de señales excitatorias e $I$ es el conjunto de señales inhibitorias. Asimismo, estableceremos como restricciones que tanto la entrada como la salida sean variables binarias, es decir, $input, output \\in {0,1}$. Adicionalmente, definiremos un umbral $u$ que la neurona utiliza para determinar los casos de excitación..\n",
        "\n",
        "Dado lo anterior la salida de $C$ se calcula usando las siguientes reglas:\n",
        "\n",
        "1. En caso de que alguna de las entradas inhibitorias esté activa la neurona no se exita, es decir,\n",
        "    \n",
        "    $C(E,I) = 0$  if  $\\exists \\iota_i=1; \\iota_i \\in I$\\\\\n",
        "\n",
        "2. La neurona se exita si la integral de sus entradas exitatorias es igual o superior al umbral, es decir,\n",
        "    \n",
        "    $C(E,I) = 1$ if $\\sum e_i \\geq u; e \\in I$\\\\\n",
        "    \n",
        "\n",
        "3. En cualquier otro caso la neurona permanece sin exitación."
      ]
    },
    {
      "cell_type": "code",
      "execution_count": null,
      "metadata": {
        "id": "Jv_C5kHJ6M7C"
      },
      "outputs": [],
      "source": [
        "#importamos paquetes necesarios\n",
        "import numpy as np"
      ]
    },
    {
      "cell_type": "code",
      "execution_count": 36,
      "metadata": {
        "id": "lzqf8ZeF6M7D"
      },
      "outputs": [],
      "source": [
        "# TODO: (2 puntos) Implemente la función del modelo M&P, no use funciones predefinidas de numpy\n",
        "def neuronaMyP(E,I,u):\n",
        "  for i in I:\n",
        "    if(i==1):\n",
        "      return 0\n",
        "\n",
        "  sum = 0\n",
        "  for e in E:\n",
        "    sum += e\n",
        "    if(sum >= u):\n",
        "      return 1\n",
        "\n",
        "  else:\n",
        "    return 0"
      ]
    },
    {
      "cell_type": "code",
      "execution_count": 40,
      "metadata": {
        "id": "aaGdiqTc6M7D",
        "colab": {
          "base_uri": "https://localhost:8080/"
        },
        "outputId": "ee27e5a0-497f-47d3-c730-d4b5539796c8"
      },
      "outputs": [
        {
          "output_type": "execute_result",
          "data": {
            "text/plain": [
              "1"
            ]
          },
          "metadata": {},
          "execution_count": 40
        }
      ],
      "source": [
        "# suponga\n",
        "E = [1,1]\n",
        "I = [0]\n",
        "u = 1\n",
        "\n",
        "# Calcule la salida de la neurona y verfique si es correcto\n",
        "neuronaMyP(E,I,u)"
      ]
    },
    {
      "cell_type": "code",
      "execution_count": null,
      "metadata": {
        "id": "iu0Kt6p76M7E"
      },
      "outputs": [],
      "source": [
        "# TODO: (1 punto) Implemente un programa que reciba vectores arbitrarios de E, I y u y devuelva la salida de la neurona.\n",
        "def neurona(E,I,u):\n",
        "  if np.any(I==1):\n",
        "    return 0\n",
        "  if np.sum(E) >= u:\n",
        "    return 1\n",
        "  else:\n",
        "    return 0\n"
      ]
    },
    {
      "cell_type": "code",
      "source": [
        "E = np.array([1,1])\n",
        "I = np.array([0])\n",
        "u = 1\n",
        "\n",
        "neurona(E,I,u)"
      ],
      "metadata": {
        "id": "aQktbfFRvbm6",
        "outputId": "80060f38-a649-4260-b107-470f34c9eb23",
        "colab": {
          "base_uri": "https://localhost:8080/"
        }
      },
      "execution_count": null,
      "outputs": [
        {
          "output_type": "execute_result",
          "data": {
            "text/plain": [
              "1"
            ]
          },
          "metadata": {},
          "execution_count": 46
        }
      ]
    },
    {
      "cell_type": "code",
      "source": [
        "class neuronaMP:\n",
        "    def __init__(self, *items):\n",
        "      self.E = None\n",
        "      self.I = None\n",
        "      self.u = None\n",
        "      if len(items) == 3:\n",
        "        self.E = items[0]\n",
        "        self.I = items[1]\n",
        "        self.u = items[2]\n",
        "      elif len(items) == 2:\n",
        "        if isinstance(items[0], list) and isinstance(items[1], list):\n",
        "          self.E = items[0]\n",
        "          self.I = items[1]\n",
        "        elif isinstance(items[0], list) and isinstance(items[1], (int, float)):\n",
        "          self.E = items[0]\n",
        "          self.u = items[1]\n",
        "        elif isinstance(items[0], list) and isinstance(items[1], (int,float)):\n",
        "          self.I = items[0]\n",
        "          self.u = items[1]\n",
        "\n",
        "\n",
        "    def calcular(self):\n",
        "        # Si no recibe los parametros\n",
        "        if self.E is None or self.I is None or self.u is None:\n",
        "            return [0]\n",
        "\n",
        "        for i in self.I:\n",
        "            if i == 1:\n",
        "                return 0\n",
        "\n",
        "        sum = 0\n",
        "        for e in self.E:\n",
        "            sum += e\n",
        "            if sum >= self.u:\n",
        "                return 1\n"
      ],
      "metadata": {
        "id": "LbVDcdqDBb5l"
      },
      "execution_count": 4,
      "outputs": []
    },
    {
      "cell_type": "code",
      "source": [
        "E = [1,1]\n",
        "I = [1]\n",
        "u = 1\n",
        "\n",
        "n1 = neuronaMP(E,I,u)\n",
        "print(n1.calcular())\n",
        "\n",
        "n2 = neuronaMP(E,u)\n",
        "n2.I = [0]\n",
        "print(n2.calcular())\n",
        "\n",
        "n3 = neuronaMP(E,I)\n",
        "n3.E = [0, 0]\n",
        "print(n3.calcular())\n",
        "\n",
        "n4 = neuronaMP(I,u)\n",
        "n4.u = 2\n",
        "print(n4.calcular())"
      ],
      "metadata": {
        "colab": {
          "base_uri": "https://localhost:8080/"
        },
        "id": "LC5UlMnMJ7ED",
        "outputId": "d4d2721b-3b91-4ccb-c735-fa6c0cc5ed29"
      },
      "execution_count": 8,
      "outputs": [
        {
          "output_type": "stream",
          "name": "stdout",
          "text": [
            "0\n",
            "1\n",
            "[0]\n",
            "[0]\n"
          ]
        }
      ]
    }
  ],
  "metadata": {
    "kernelspec": {
      "display_name": "nni",
      "language": "python",
      "name": "python3"
    },
    "language_info": {
      "codemirror_mode": {
        "name": "ipython",
        "version": 3
      },
      "file_extension": ".py",
      "mimetype": "text/x-python",
      "name": "python",
      "nbconvert_exporter": "python",
      "pygments_lexer": "ipython3",
      "version": "3.12.1"
    },
    "colab": {
      "provenance": [],
      "include_colab_link": true
    }
  },
  "nbformat": 4,
  "nbformat_minor": 0
}